{
  "metadata": {
    "kernelspec": {
      "name": "python",
      "display_name": "Python (Pyodide)",
      "language": "python"
    },
    "language_info": {
      "codemirror_mode": {
        "name": "python",
        "version": 3
      },
      "file_extension": ".py",
      "mimetype": "text/x-python",
      "name": "python",
      "nbconvert_exporter": "python",
      "pygments_lexer": "ipython3",
      "version": "3.8"
    }
  },
  "nbformat_minor": 5,
  "nbformat": 4,
  "cells": [
    {
      "cell_type": "markdown",
      "source": " Profitable App Profiles for the App Store and Google Play Markets",
      "metadata": {},
      "id": "74104cb4-db3f-45b4-aefb-772bcaa7882f"
    },
    {
      "cell_type": "markdown",
      "source": "In our data analysis project, we, as a mobile app development company, will be exploring data to gain valuable insights into the factors that influence the attraction of more users to our Android and iOS mobile apps, available on Google Play and the App Store.\n\nAs a company that heavily relies on in-app ads for revenue, our success is directly tied to the number of users we acquire. With a larger user base, we can enhance engagement with our in-app ads and generate higher revenue. Hence, the main objective of this project is to employ data analysis techniques to assist our developers in understanding the types of apps that are more likely to draw a larger audience.\n\nThrough the examination of various factors such as app categories, user ratings, app size, and even pricing (if applicable), along with other relevant metrics, we aim to uncover patterns and trends that can provide guidance to our development team. These insights will enable us to create apps with a higher potential for popularity and user attraction. Ultimately, our analysis will contribute to strategic decision-making and optimization of our app development process, fostering increased user engagement and revenue generation.",
      "metadata": {},
      "id": "17b33a96-efe4-4514-94de-ce0d109a6ab3"
    },
    {
      "cell_type": "markdown",
      "source": "open both csv files using the default methods ",
      "metadata": {},
      "id": "edbc9f91-cc95-4e67-8b1c-9be0fe744ec0"
    },
    {
      "cell_type": "code",
      "source": "from csv import reader ",
      "metadata": {
        "trusted": true
      },
      "execution_count": 26,
      "outputs": [],
      "id": "2942d04a-f3f4-48e2-afc9-3a1e3befca13"
    },
    {
      "cell_type": "code",
      "source": "open_file = open('AppleStore.csv')\nread_file = reader(open_file)\nios = list(read_file)\nios_header = ios[0]\nios_main = ios[1:]",
      "metadata": {
        "trusted": true
      },
      "execution_count": 27,
      "outputs": [],
      "id": "7a8c3b40-8a4f-4893-9f5c-a81a3f140433"
    },
    {
      "cell_type": "code",
      "source": "open_file = open('googleplaystore.csv')\nread_file = reader(open_file)\nandroid = list(read_file)\nandroid_header = android[0]\nandroid_main = android[1:]",
      "metadata": {
        "trusted": true
      },
      "execution_count": 28,
      "outputs": [],
      "id": "1693171e-76f0-4624-8e95-022afc0a8af7"
    },
    {
      "cell_type": "markdown",
      "source": " created a function named explore_data() that you can repeatedly use to print rows in a readable way.",
      "metadata": {},
      "id": "fb234156-3ea1-479b-b707-ddb302335fb6"
    },
    {
      "cell_type": "code",
      "source": "def explore_data(dataset, start, end, rows_and_columns=False):\n    dataset_slice = dataset[start:end]    \n    for row in dataset_slice:\n        print(row)\n        print('\\n') # adds a new (empty) line after each row\n\n    if rows_and_columns:\n        print('Number of rows:', len(dataset))\n        print('Number of columns:', len(dataset[0]))",
      "metadata": {
        "trusted": true
      },
      "execution_count": 29,
      "outputs": [],
      "id": "da2129c2-5bf9-4580-b6fc-c8f76c2a477d"
    },
    {
      "cell_type": "markdown",
      "source": "Print the first few rows of each dataset.",
      "metadata": {},
      "id": "e071d120-11b9-4fde-b088-b645091a5e55"
    },
    {
      "cell_type": "code",
      "source": "#print(ios_main[:2])",
      "metadata": {
        "trusted": true
      },
      "execution_count": 30,
      "outputs": [],
      "id": "b43ef60b-f0ca-4ce6-886e-284ddb0c7d30"
    },
    {
      "cell_type": "code",
      "source": "#print(android_main[:2])",
      "metadata": {
        "trusted": true
      },
      "execution_count": 31,
      "outputs": [],
      "id": "92626ced-9507-4d9d-b486-e9f72d2960dd"
    },
    {
      "cell_type": "markdown",
      "source": "the number of rows and columns of each dataset ",
      "metadata": {},
      "id": "50fa3de7-1ef7-4145-9aef-2e0ae8c0e33d"
    },
    {
      "cell_type": "code",
      "source": "#explore_data(ios_main , 0, 3, True)",
      "metadata": {
        "trusted": true
      },
      "execution_count": 32,
      "outputs": [],
      "id": "9e13a2c2-7d5d-4ed8-9064-57cb39e5c477"
    },
    {
      "cell_type": "code",
      "source": "#explore_data(android_main , 0, 3, True)",
      "metadata": {
        "trusted": true
      },
      "execution_count": 33,
      "outputs": [],
      "id": "4155df7a-46d9-48c0-a612-2426f27de224"
    },
    {
      "cell_type": "markdown",
      "source": "To Familirize with data we will print each of dataset column names ",
      "metadata": {},
      "id": "32223156-c8a2-41eb-bae3-228a67bf31e3"
    },
    {
      "cell_type": "code",
      "source": "print(android_header)",
      "metadata": {
        "trusted": true
      },
      "execution_count": 34,
      "outputs": [
        {
          "name": "stdout",
          "text": "['App', 'Category', 'Rating', 'Reviews', 'Size', 'Installs', 'Type', 'Price', 'Content Rating', 'Genres', 'Last Updated', 'Current Ver', 'Android Ver']\n",
          "output_type": "stream"
        }
      ],
      "id": "fbe42cde-48d6-407f-879c-450a4a1650a4"
    },
    {
      "cell_type": "code",
      "source": "print(ios_header)",
      "metadata": {
        "trusted": true
      },
      "execution_count": 35,
      "outputs": [
        {
          "name": "stdout",
          "text": "['id', 'track_name', 'size_bytes', 'currency', 'price', 'rating_count_tot', 'rating_count_ver', 'user_rating', 'user_rating_ver', 'ver', 'cont_rating', 'prime_genre', 'sup_devices.num', 'ipadSc_urls.num', 'lang.num', 'vpp_lic']\n",
          "output_type": "stream"
        }
      ],
      "id": "78dd1cb2-62c3-4471-9e14-17a7ae111c9f"
    },
    {
      "cell_type": "markdown",
      "source": "After identifying an error in one row of the Google dataset during our discussion, we have decided to take the necessary step of deleting it to maintain the overall efficiency of our analysis\n\nTo ensure that the deletion has taken effect and to maintain transparency, we will print the length of the Google dataset before and after removing the row containing the error. This will allow us to verify the impact of the deletion on the dataset's overall length and confirm the desired efficiency in our analysis.",
      "metadata": {},
      "id": "febc3eb0-5e08-4f68-979b-41deea6b0c67"
    },
    {
      "cell_type": "code",
      "source": "print(android_header)",
      "metadata": {
        "trusted": true
      },
      "execution_count": 11,
      "outputs": [
        {
          "name": "stdout",
          "text": "['App', 'Category', 'Rating', 'Reviews', 'Size', 'Installs', 'Type', 'Price', 'Content Rating', 'Genres', 'Last Updated', 'Current Ver', 'Android Ver']\n",
          "output_type": "stream"
        }
      ],
      "id": "b38add73-db59-4fbc-b36b-1195af7c05d9"
    },
    {
      "cell_type": "code",
      "source": "del android_main[10472]",
      "metadata": {
        "trusted": true
      },
      "execution_count": 36,
      "outputs": [],
      "id": "ee4e768d-6447-4482-b7d3-f89e55ea973c"
    },
    {
      "cell_type": "code",
      "source": "print(len(android_main))",
      "metadata": {
        "trusted": true
      },
      "execution_count": 37,
      "outputs": [
        {
          "name": "stdout",
          "text": "10840\n",
          "output_type": "stream"
        }
      ],
      "id": "d6ce4b09-95e4-46d7-93b9-3e4dd5cb6c24"
    },
    {
      "cell_type": "markdown",
      "source": "Before we commence with our data analysis, it is essential to perform data cleaning tasks. One method we can employ is removing duplicates. However, before proceeding with duplicate removal, we need to identify whether there are any duplicates present in our dataset.",
      "metadata": {},
      "id": "c1b96493-82a1-4914-99d8-2bf17accf182"
    },
    {
      "cell_type": "code",
      "source": "duplicate_apps = []\nunique_apps = []\nfor app in android_main:\n    name = app[0]\n    if name not  in unique_apps:\n        unique_apps.append(name)\n    else:\n        duplicate_apps.append(name)\nprint(\"Number of unique apps is :\", len(unique_apps))\nprint(\"Example of duplicate apps are:\", duplicate_apps[:5])      \n        \n        \n        ",
      "metadata": {
        "trusted": true
      },
      "execution_count": 38,
      "outputs": [
        {
          "name": "stdout",
          "text": "Number of unique apps is : 9659\nExample of duplicate apps are: ['Quick PDF Scanner + OCR FREE', 'Box', 'Google My Business', 'ZOOM Cloud Meetings', 'join.me - Simple Meetings']\n",
          "output_type": "stream"
        }
      ],
      "id": "a1e522f9-c3c5-4774-aadb-ce873c1e786c"
    },
    {
      "cell_type": "markdown",
      "source": "As we can see there is alot duplicate apps in our dataset and we need to find a way to remove it ",
      "metadata": {},
      "id": "1cd8faa8-421b-4b7c-a1c7-bd842049dc79"
    },
    {
      "cell_type": "code",
      "source": "reviews_max = {}\n\nfor app in android_main:\n    name = app[0]\n    n_reviews = float(app[3])\n    \n    if name in reviews_max and reviews_max[name] < n_reviews:\n        reviews_max[name] = n_reviews\n        \n    elif name not in reviews_max:\n        reviews_max[name] = n_reviews\n        ",
      "metadata": {
        "trusted": true
      },
      "execution_count": 40,
      "outputs": [],
      "id": "94dd08e9-d805-449a-a3ef-067580c9a2ef"
    },
    {
      "cell_type": "code",
      "source": "print(len(android_main))",
      "metadata": {
        "trusted": true
      },
      "execution_count": 71,
      "outputs": [
        {
          "name": "stdout",
          "text": "10840\n",
          "output_type": "stream"
        }
      ],
      "id": "1df9f913-6a9a-437f-8165-acb9b6478b87"
    },
    {
      "cell_type": "code",
      "source": "android_clean = []\nalready_added = []\nfor app in android_main:\n    name = app[0]\n    n_reviews = float(app[3])\n    if (n_reviews == reviews_max[name]) and (name not in already_added):\n        android_clean.append(app)\n        already_added.append(name)\n    \n    ",
      "metadata": {
        "trusted": true
      },
      "execution_count": 44,
      "outputs": [],
      "id": "0d9ed945-47e0-4042-87c9-c9bce16ff2f9"
    },
    {
      "cell_type": "code",
      "source": "print(len(android_clean))",
      "metadata": {
        "trusted": true
      },
      "execution_count": 43,
      "outputs": [
        {
          "name": "stdout",
          "text": "9659\n",
          "output_type": "stream"
        }
      ],
      "id": "f0af11c4-6cdf-46e9-8fe4-75c854844b92"
    },
    {
      "cell_type": "code",
      "source": "explore_data(android_clean, 0, 3, True)",
      "metadata": {
        "trusted": true
      },
      "execution_count": 45,
      "outputs": [
        {
          "name": "stdout",
          "text": "['Photo Editor & Candy Camera & Grid & ScrapBook', 'ART_AND_DESIGN', '4.1', '159', '19M', '10,000+', 'Free', '0', 'Everyone', 'Art & Design', 'January 7, 2018', '1.0.0', '4.0.3 and up']\n\n\n['U Launcher Lite – FREE Live Cool Themes, Hide Apps', 'ART_AND_DESIGN', '4.7', '87510', '8.7M', '5,000,000+', 'Free', '0', 'Everyone', 'Art & Design', 'August 1, 2018', '1.2.4', '4.0.3 and up']\n\n\n['Sketch - Draw & Paint', 'ART_AND_DESIGN', '4.5', '215644', '25M', '50,000,000+', 'Free', '0', 'Teen', 'Art & Design', 'June 8, 2018', 'Varies with device', '4.2 and up']\n\n\nNumber of rows: 9659\nNumber of columns: 13\n",
          "output_type": "stream"
        }
      ],
      "id": "3f65fd08-0c31-4042-b85f-5bc279f9c7f2"
    },
    {
      "cell_type": "code",
      "source": "",
      "metadata": {
        "trusted": true
      },
      "execution_count": null,
      "outputs": [],
      "id": "b1964089-5c0f-4735-830d-fee15a45c4c3"
    },
    {
      "cell_type": "code",
      "source": "def is_english(string):\n    \n    for character in string:\n        if ord(character) > 127:\n            return False\n    \n    return True\n\nprint(is_english('Instagram'))\nprint(is_english('爱奇艺PPS -《欢乐颂2》电视剧热播'))",
      "metadata": {
        "trusted": true
      },
      "execution_count": 27,
      "outputs": [
        {
          "name": "stdout",
          "text": "True\nFalse\n",
          "output_type": "stream"
        }
      ],
      "id": "93a97c7d-e4a1-402d-8921-522b9785d48b"
    },
    {
      "cell_type": "code",
      "source": "print(is_english('Docs To Go™ Free Office Suite'))\nprint(is_english('Instachat 😜'))\n\nprint(ord('™'))\nprint(ord('😜'))",
      "metadata": {
        "trusted": true
      },
      "execution_count": 28,
      "outputs": [
        {
          "name": "stdout",
          "text": "False\nFalse\n8482\n128540\n",
          "output_type": "stream"
        }
      ],
      "id": "478dd730-4979-41de-8a6d-c91cb31ce1ea"
    },
    {
      "cell_type": "code",
      "source": "def is_english(string):\n    non_ascii = 0  # Counter for non-ASCII characters\n    \n    for character in string:\n        if ord(character) > 127:  # Check if character is non-ASCII\n            non_ascii += 1\n    \n    if non_ascii > 3:  # If more than 3 non-ASCII characters are found\n        return False  # Return False, indicating non-English\n    else:\n        return True  # Return True, indicating English\n\n# Test cases\nprint(is_english('Docs To Go™ Free Office Suite'))  # Contains non-ASCII character (™)\nprint(is_english('Instachat 😜'))  # Contains non-ASCII characters (😜)\n",
      "metadata": {
        "trusted": true
      },
      "execution_count": 46,
      "outputs": [
        {
          "name": "stdout",
          "text": "True\nTrue\n",
          "output_type": "stream"
        }
      ],
      "id": "eb3de1ea-e27a-4f24-932f-270d757cc06f"
    },
    {
      "cell_type": "code",
      "source": "android_english = []  # Create an empty list to store English Android apps\n\nios_english = []  # Create an empty list to store English iOS apps\n\n# Iterate over each app in the 'android_clean' list\nfor app in android_clean:\n    name = app[0]  # Extract the app name from the current Android app\n    if is_english(name):  # Check if the app name is in English\n        android_english.append(app)  # If yes, add the app to the 'android_english' list\n\n# Iterate over each app in the 'ios' list\nfor app in ios:\n    name = app[1]  # Extract the app name from the current iOS app\n    if is_english(name):  # Check if the app name is in English\n        ios_english.append(app)  # If yes, add the app to the 'ios_english' list\n\n# Call the 'explore_data' function to display information about the Android English apps\nexplore_data(android_english, 0, 3, True)\nprint('\\n')\n# Call the 'explore_data' function to display information about the iOS English apps\nexplore_data(ios_english, 0, 3, True)\n",
      "metadata": {
        "trusted": true
      },
      "execution_count": 48,
      "outputs": [
        {
          "name": "stdout",
          "text": "['Photo Editor & Candy Camera & Grid & ScrapBook', 'ART_AND_DESIGN', '4.1', '159', '19M', '10,000+', 'Free', '0', 'Everyone', 'Art & Design', 'January 7, 2018', '1.0.0', '4.0.3 and up']\n\n\n['U Launcher Lite – FREE Live Cool Themes, Hide Apps', 'ART_AND_DESIGN', '4.7', '87510', '8.7M', '5,000,000+', 'Free', '0', 'Everyone', 'Art & Design', 'August 1, 2018', '1.2.4', '4.0.3 and up']\n\n\n['Sketch - Draw & Paint', 'ART_AND_DESIGN', '4.5', '215644', '25M', '50,000,000+', 'Free', '0', 'Teen', 'Art & Design', 'June 8, 2018', 'Varies with device', '4.2 and up']\n\n\nNumber of rows: 9614\nNumber of columns: 13\n\n\n['id', 'track_name', 'size_bytes', 'currency', 'price', 'rating_count_tot', 'rating_count_ver', 'user_rating', 'user_rating_ver', 'ver', 'cont_rating', 'prime_genre', 'sup_devices.num', 'ipadSc_urls.num', 'lang.num', 'vpp_lic']\n\n\n['284882215', 'Facebook', '389879808', 'USD', '0.0', '2974676', '212', '3.5', '3.5', '95.0', '4+', 'Social Networking', '37', '1', '29', '1']\n\n\n['389801252', 'Instagram', '113954816', 'USD', '0.0', '2161558', '1289', '4.5', '4.0', '10.23', '12+', 'Photo & Video', '37', '0', '29', '1']\n\n\nNumber of rows: 6184\nNumber of columns: 16\n",
          "output_type": "stream"
        }
      ],
      "id": "8920d18e-bf22-4a90-bd23-11c7d1444e48"
    },
    {
      "cell_type": "code",
      "source": "android_final = []\nios_final = []\n\nfor app in android_english:\n    price = app[7]\n    if price == '0':\n        android_final.append(app)\n        \nfor app in ios_english:\n    price = app[4]\n    if price == '0.0':\n        ios_final.append(app)\n        \nprint(len(android_final))\nprint(len(ios_final))",
      "metadata": {
        "trusted": true
      },
      "execution_count": 31,
      "outputs": [
        {
          "name": "stdout",
          "text": "0\n3222\n",
          "output_type": "stream"
        }
      ],
      "id": "a4c98ee6-e8ec-4783-b6ae-7abb22ed0cb6"
    },
    {
      "cell_type": "markdown",
      "source": "As previously mentioned, our focus is on developing free-to-download and install apps, with our primary revenue stream coming from in-app advertisements. Our datasets consist of both free and non-free apps, but for our analysis, we need to filter and isolate only the free apps. In the following code, we accomplish this task by extracting and segregating the free apps from our datasets.",
      "metadata": {},
      "id": "898fa846-b908-4d2d-af61-c1a6a7adf114"
    },
    {
      "cell_type": "code",
      "source": "android_final = []  # Create an empty list to store the final filtered Android apps\n\nios_final = []  # Create an empty list to store the final filtered iOS apps\n\n# Iterate over each app in the 'android_english' list\nfor app in android_english:\n    price = app[7]  # Extract the price of the app from the current Android app\n    if price == '0':  # Check if the app is free (price is '0')\n        android_final.append(app)  # If yes, add the app to the 'android_final' list\n\n# Iterate over each app in the 'ios_english' list\nfor app in ios_english:\n    price = app[4]  # Extract the price of the app from the current iOS app\n    if price == '0.0':  # Check if the app is free (price is '0.0')\n        ios_final.append(app)  # If yes, add the app to the 'ios_final' list\n\nprint(len(android_final))  # Print the number of free Android apps in the 'android_final' list\nprint(len(ios_final))  # Print the number of free iOS apps in the 'ios_final' list\n",
      "metadata": {
        "trusted": true
      },
      "execution_count": 49,
      "outputs": [
        {
          "name": "stdout",
          "text": "8864\n3222\n",
          "output_type": "stream"
        }
      ],
      "id": "1494fd7c-590e-49a1-ba54-b2d1cae67f1e"
    },
    {
      "cell_type": "markdown",
      "source": "\n\nThe goal of this analysis is to identify app genres that have a higher likelihood of attracting more users, as the revenue of the company is heavily influenced by the app's user base. The validation strategy involves three steps: starting with a minimal Android version of the app on Google Play, further developing it if it receives positive user feedback, and eventually creating an iOS version for the App Store if it proves to be profitable within six months. To achieve the objective of targeting both markets, it is necessary to find app profiles that are successful on both platforms.\n\nThe analysis begins by examining the most common genres in each market. Frequency tables will be created for the \"prime_genre\" column in the App Store dataset, and the \"Genres\" and \"Category\" columns in the Google Play dataset. Two functions will be developed to analyze these frequency tables: one to generate percentage-based frequency tables and another to display the percentages in descending order.\n\nIn summary, this analysis aims to identify app genres that have a high potential for success on both the App Store and Google Play.",
      "metadata": {},
      "id": "450b0f32-fb35-4398-a69b-c4f5afb4d2c9"
    },
    {
      "cell_type": "code",
      "source": "def freq_table(dataset, index):\n    table = {}  # Create an empty dictionary to store the frequency of values\n    total = 0  # Variable to keep track of the total number of rows in the dataset\n\n    # Iterate over each row in the dataset\n    for row in dataset:\n        total += 1  # Increment the total count for each row\n        value = row[index]  # Get the value at the specified index in the row\n\n        # Check if the value is already present in the table\n        if value in table:\n            table[value] += 1  # If it is present, increment its frequency\n        else:\n            table[value] = 1  # If it is not present, initialize its frequency to 1\n\n    table_percentages = {}  # Create a new dictionary to store the percentages of each value\n    for key in table:\n        percentage = (table[key] / total) * 100  # Calculate the percentage for each value\n        table_percentages[key] = percentage  # Store the percentage in the new dictionary\n\n    return table_percentages  # Return the dictionary containing value frequencies as percentages\n\n\ndef display_table(dataset, index):\n    table = freq_table(dataset, index)  # Get the frequency table using the freq_table function\n    table_display = []  # Create an empty list to store the formatted table\n\n    # Iterate over each key in the table dictionary\n    for key in table:\n        key_val_as_tuple = (table[key], key)  # Create a tuple with the frequency and value\n        table_display.append(key_val_as_tuple)  # Append the tuple to the table_display list\n\n    table_sorted = sorted(table_display, reverse=True)  # Sort the table in descending order of frequency\n\n    # Iterate over each entry in the sorted table and display it\n    for entry in table_sorted:\n        print(entry[1], ':', entry[0])  # Print the value and its frequency\n",
      "metadata": {
        "trusted": true
      },
      "execution_count": 50,
      "outputs": [],
      "id": "e7e76c5d-ff67-4fc3-8845-b2db4011a71e"
    },
    {
      "cell_type": "markdown",
      "source": "Let's begin by analyzing the frequency table pertaining to the \"prime_genre\" column within the App Store dataset.",
      "metadata": {},
      "id": "45edde5f-ded8-4874-bb93-e986263736ad"
    },
    {
      "cell_type": "code",
      "source": "display_table(ios_final, -5)",
      "metadata": {
        "trusted": true
      },
      "execution_count": 51,
      "outputs": [
        {
          "name": "stdout",
          "text": "Games : 58.16263190564867\nEntertainment : 7.883302296710118\nPhoto & Video : 4.9658597144630665\nEducation : 3.662321539416512\nSocial Networking : 3.2898820608317814\nShopping : 2.60707635009311\nUtilities : 2.5139664804469275\nSports : 2.1415270018621975\nMusic : 2.0484171322160147\nHealth & Fitness : 2.0173805090006205\nProductivity : 1.7380509000620732\nLifestyle : 1.5828677839851024\nNews : 1.3345747982619491\nTravel : 1.2414649286157666\nFinance : 1.1173184357541899\nWeather : 0.8690254500310366\nFood & Drink : 0.8069522036002483\nReference : 0.5586592178770949\nBusiness : 0.5276225946617008\nBook : 0.4345127250155183\nNavigation : 0.186219739292365\nMedical : 0.186219739292365\nCatalogs : 0.12414649286157665\n",
          "output_type": "stream"
        }
      ],
      "id": "5863bb0e-80a3-49d6-8169-587f02fbd9c1"
    },
    {
      "cell_type": "markdown",
      "source": "Among the free English apps, it can be observed that games constitute more than half (58.16%) of the total. Entertainment apps account for nearly 8%, followed closely by photo and video apps at around 5%. Educational apps represent only 3.66% of the total, followed by social networking apps at 3.29%.\n\nThe overall impression suggests that the App Store, specifically the section containing free English apps, is predominantly filled with apps designed for recreational purposes such as games, entertainment, photo and video, social networking, sports, and music, among others. On the other hand, apps with practical uses like education, shopping, utilities, productivity, and lifestyle are comparatively less common. However, it is important to note that while fun apps may be abundant, it doesn't necessarily indicate that they have the highest number of users, as demand may not align with the supply.",
      "metadata": {},
      "id": "e8c74e1f-c49a-4dea-ae41-8bc2fa5f53c4"
    },
    {
      "cell_type": "markdown",
      "source": "Let's proceed by analyzing the Genres and Category columns within the Google Play dataset, as they appear to have a connection.",
      "metadata": {},
      "id": "ffc43c20-02c0-4786-b0a5-c1bbe795e4a2"
    },
    {
      "cell_type": "code",
      "source": "display_table(android_final, 1) # Category",
      "metadata": {
        "trusted": true
      },
      "execution_count": 52,
      "outputs": [
        {
          "name": "stdout",
          "text": "FAMILY : 18.907942238267147\nGAME : 9.724729241877256\nTOOLS : 8.461191335740072\nBUSINESS : 4.591606498194946\nLIFESTYLE : 3.9034296028880866\nPRODUCTIVITY : 3.892148014440433\nFINANCE : 3.7003610108303246\nMEDICAL : 3.531137184115524\nSPORTS : 3.395758122743682\nPERSONALIZATION : 3.3167870036101084\nCOMMUNICATION : 3.2378158844765346\nHEALTH_AND_FITNESS : 3.0798736462093865\nPHOTOGRAPHY : 2.944494584837545\nNEWS_AND_MAGAZINES : 2.7978339350180503\nSOCIAL : 2.6624548736462095\nTRAVEL_AND_LOCAL : 2.33528880866426\nSHOPPING : 2.2450361010830324\nBOOKS_AND_REFERENCE : 2.1435018050541514\nDATING : 1.861462093862816\nVIDEO_PLAYERS : 1.7937725631768955\nMAPS_AND_NAVIGATION : 1.3989169675090252\nFOOD_AND_DRINK : 1.2409747292418771\nEDUCATION : 1.1620036101083033\nENTERTAINMENT : 0.9589350180505415\nLIBRARIES_AND_DEMO : 0.9363718411552346\nAUTO_AND_VEHICLES : 0.9250902527075812\nHOUSE_AND_HOME : 0.8235559566787004\nWEATHER : 0.8009927797833934\nEVENTS : 0.7107400722021661\nPARENTING : 0.6543321299638989\nART_AND_DESIGN : 0.6430505415162455\nCOMICS : 0.6204873646209386\nBEAUTY : 0.5979241877256317\n",
          "output_type": "stream"
        }
      ],
      "id": "16a0bb57-cb18-4500-a1c9-2467a7cb8bb3"
    },
    {
      "cell_type": "markdown",
      "source": "\nWhen looking at Google Play, it becomes evident that the app ecosystem has distinct characteristics. There is a conspicuous absence of apps focused on entertainment, and a significant proportion of the available apps cater to practical purposes like family, tools, business, lifestyle, productivity, and other similar categories. However, delving deeper into the analysis reveals that the family category, accounting for approximately 19% of the apps, predominantly comprises games specifically created for children.",
      "metadata": {},
      "id": "3103ef39-c89e-4473-a838-f5b03ecd97af"
    },
    {
      "cell_type": "markdown",
      "source": "However, when considering practical applications, it appears that Google Play has a stronger presence compared to the App Store. This observation is further supported by the frequency table displayed for the Genres column.",
      "metadata": {},
      "id": "6f20cfb0-206e-41cc-be2a-752c587fd450"
    },
    {
      "cell_type": "code",
      "source": "display_table(android_final, -4)",
      "metadata": {
        "trusted": true
      },
      "execution_count": 55,
      "outputs": [
        {
          "name": "stdout",
          "text": "Tools : 8.449909747292418\nEntertainment : 6.069494584837545\nEducation : 5.347472924187725\nBusiness : 4.591606498194946\nProductivity : 3.892148014440433\nLifestyle : 3.892148014440433\nFinance : 3.7003610108303246\nMedical : 3.531137184115524\nSports : 3.463447653429603\nPersonalization : 3.3167870036101084\nCommunication : 3.2378158844765346\nAction : 3.1024368231046933\nHealth & Fitness : 3.0798736462093865\nPhotography : 2.944494584837545\nNews & Magazines : 2.7978339350180503\nSocial : 2.6624548736462095\nTravel & Local : 2.3240072202166067\nShopping : 2.2450361010830324\nBooks & Reference : 2.1435018050541514\nSimulation : 2.0419675090252705\nDating : 1.861462093862816\nArcade : 1.8501805054151623\nVideo Players & Editors : 1.7712093862815883\nCasual : 1.7599277978339352\nMaps & Navigation : 1.3989169675090252\nFood & Drink : 1.2409747292418771\nPuzzle : 1.128158844765343\nRacing : 0.9927797833935018\nRole Playing : 0.9363718411552346\nLibraries & Demo : 0.9363718411552346\nAuto & Vehicles : 0.9250902527075812\nStrategy : 0.9138086642599278\nHouse & Home : 0.8235559566787004\nWeather : 0.8009927797833934\nEvents : 0.7107400722021661\nAdventure : 0.6768953068592057\nComics : 0.6092057761732852\nBeauty : 0.5979241877256317\nArt & Design : 0.5979241877256317\nParenting : 0.4963898916967509\nCard : 0.45126353790613716\nCasino : 0.42870036101083037\nTrivia : 0.41741877256317694\nEducational;Education : 0.39485559566787\nBoard : 0.3835740072202166\nEducational : 0.3722924187725632\nEducation;Education : 0.33844765342960287\nWord : 0.2594765342960289\nCasual;Pretend Play : 0.236913357400722\nMusic : 0.2030685920577617\nRacing;Action & Adventure : 0.16922382671480143\nPuzzle;Brain Games : 0.16922382671480143\nEntertainment;Music & Video : 0.16922382671480143\nCasual;Brain Games : 0.13537906137184114\nCasual;Action & Adventure : 0.13537906137184114\nArcade;Action & Adventure : 0.12409747292418773\nAction;Action & Adventure : 0.10153429602888085\nEducational;Pretend Play : 0.09025270758122744\nSimulation;Action & Adventure : 0.078971119133574\nParenting;Education : 0.078971119133574\nEntertainment;Brain Games : 0.078971119133574\nBoard;Brain Games : 0.078971119133574\nParenting;Music & Video : 0.06768953068592057\nEducational;Brain Games : 0.06768953068592057\nCasual;Creativity : 0.06768953068592057\nArt & Design;Creativity : 0.06768953068592057\nEducation;Pretend Play : 0.056407942238267145\nRole Playing;Pretend Play : 0.04512635379061372\nEducation;Creativity : 0.04512635379061372\nRole Playing;Action & Adventure : 0.033844765342960284\nPuzzle;Action & Adventure : 0.033844765342960284\nEntertainment;Creativity : 0.033844765342960284\nEntertainment;Action & Adventure : 0.033844765342960284\nEducational;Creativity : 0.033844765342960284\nEducational;Action & Adventure : 0.033844765342960284\nEducation;Music & Video : 0.033844765342960284\nEducation;Brain Games : 0.033844765342960284\nEducation;Action & Adventure : 0.033844765342960284\nAdventure;Action & Adventure : 0.033844765342960284\nVideo Players & Editors;Music & Video : 0.02256317689530686\nSports;Action & Adventure : 0.02256317689530686\nSimulation;Pretend Play : 0.02256317689530686\nPuzzle;Creativity : 0.02256317689530686\nMusic;Music & Video : 0.02256317689530686\nEntertainment;Pretend Play : 0.02256317689530686\nCasual;Education : 0.02256317689530686\nBoard;Action & Adventure : 0.02256317689530686\nVideo Players & Editors;Creativity : 0.01128158844765343\nTrivia;Education : 0.01128158844765343\nTravel & Local;Action & Adventure : 0.01128158844765343\nTools;Education : 0.01128158844765343\nStrategy;Education : 0.01128158844765343\nStrategy;Creativity : 0.01128158844765343\nStrategy;Action & Adventure : 0.01128158844765343\nSimulation;Education : 0.01128158844765343\nRole Playing;Brain Games : 0.01128158844765343\nRacing;Pretend Play : 0.01128158844765343\nPuzzle;Education : 0.01128158844765343\nParenting;Brain Games : 0.01128158844765343\nMusic & Audio;Music & Video : 0.01128158844765343\nLifestyle;Pretend Play : 0.01128158844765343\nLifestyle;Education : 0.01128158844765343\nHealth & Fitness;Education : 0.01128158844765343\nHealth & Fitness;Action & Adventure : 0.01128158844765343\nEntertainment;Education : 0.01128158844765343\nCommunication;Creativity : 0.01128158844765343\nComics;Creativity : 0.01128158844765343\nCasual;Music & Video : 0.01128158844765343\nCard;Action & Adventure : 0.01128158844765343\nBooks & Reference;Education : 0.01128158844765343\nArt & Design;Pretend Play : 0.01128158844765343\nArt & Design;Action & Adventure : 0.01128158844765343\nArcade;Pretend Play : 0.01128158844765343\nAdventure;Education : 0.01128158844765343\n",
          "output_type": "stream"
        }
      ],
      "id": "9192d289-3548-437d-b65d-9939fe6f940a"
    },
    {
      "cell_type": "markdown",
      "source": "Although the distinction between the Genres and Category columns is not completely transparent, it is evident that the Genres column provides a more detailed breakdown with a greater number of categories. However, for the purpose of our analysis, we will solely focus on the Category column in order to gain a broader understanding.\n\nThus far, our findings have revealed that the App Store primarily consists of entertainment-oriented applications, whereas Google Play offers a more diverse selection encompassing both practical and recreational apps. Now, our objective is to determine the types of apps that enjoy the largest user base.",
      "metadata": {},
      "id": "ee34230a-ac51-4dad-8729-51fc5c5b42f3"
    },
    {
      "cell_type": "markdown",
      "source": "Most Popular Apps by Genre on the App Store",
      "metadata": {},
      "id": "d8f0a61f-7e57-44e9-b548-1e3bc0bd32a8"
    },
    {
      "cell_type": "markdown",
      "source": "\nTo determine the most popular genres in terms of user base, one approach is to calculate the average number of installations for each app genre. In the case of the Google Play dataset, this information can be obtained from the Installs column. However, for the App Store dataset, the Installs column is unavailable. As an alternative, we will utilize the total number of user ratings as an approximation, which can be found in the rating_count_tot field.\n\nBelow, we present the calculation of the average number of user ratings per app genre on the App Store.",
      "metadata": {},
      "id": "b9d473fe-39f0-4248-963e-ef5823a2b408"
    },
    {
      "cell_type": "code",
      "source": "# Generate frequency table of genres in the ios_final dataset\ngenres_ios = freq_table(ios_final, -5)\n\n# Iterate over each genre in the frequency table\nfor genre in genres_ios:\n    total = 0\n    len_genre = 0\n\n    # Iterate over each app in the ios_final dataset\n    for app in ios_final:\n        # Get the genre of the current app\n        genre_app = app[-5]\n\n        # Check if the genre matches the current genre being iterated over\n        if genre_app == genre:\n            # Convert the number of ratings to float and add it to the total\n            n_ratings = float(app[5])\n            total += n_ratings\n\n            # Increment the count of apps in the genre\n            len_genre += 1\n\n    # Calculate the average number of ratings for the current genre\n    avg_n_ratings = total / len_genre\n\n    # Print the genre and its corresponding average number of ratings\n    print(genre, ':', avg_n_ratings)\n\n",
      "metadata": {
        "trusted": true
      },
      "execution_count": 58,
      "outputs": [
        {
          "name": "stdout",
          "text": "Social Networking : 71548.34905660378\nPhoto & Video : 28441.54375\nGames : 22788.6696905016\nMusic : 57326.530303030304\nReference : 74942.11111111111\nHealth & Fitness : 23298.015384615384\nWeather : 52279.892857142855\nUtilities : 18684.456790123455\nTravel : 28243.8\nShopping : 26919.690476190477\nNews : 21248.023255813954\nNavigation : 86090.33333333333\nLifestyle : 16485.764705882353\nEntertainment : 14029.830708661417\nFood & Drink : 33333.92307692308\nSports : 23008.898550724636\nBook : 39758.5\nFinance : 31467.944444444445\nEducation : 7003.983050847458\nProductivity : 21028.410714285714\nBusiness : 7491.117647058823\nCatalogs : 4004.0\nMedical : 612.0\n",
          "output_type": "stream"
        }
      ],
      "id": "8f8aa60b-dc5d-44e6-b309-597e58df9829"
    },
    {
      "cell_type": "markdown",
      "source": "On average, navigation apps have the highest number of user reviews, but this figure is heavily influenced by Waze and Google Maps, which have close to half a million user reviews together:",
      "metadata": {},
      "id": "ce4d6583-6bf0-44dd-b7aa-3185b5dbf192"
    },
    {
      "cell_type": "code",
      "source": "for app in ios_final:\n    if app[-5] == 'Navigation':\n        print(app[1], ':', app[5]) # print name and number of ratings",
      "metadata": {
        "trusted": true
      },
      "execution_count": 59,
      "outputs": [
        {
          "name": "stdout",
          "text": "Waze - GPS Navigation, Maps & Real-time Traffic : 345046\nGoogle Maps - Navigation & Transit : 154911\nGeocaching® : 12811\nCoPilot GPS – Car Navigation & Offline Maps : 3582\nImmobilienScout24: Real Estate Search in Germany : 187\nRailway Route Search : 5\n",
          "output_type": "stream"
        }
      ],
      "id": "59de4d4e-9f00-49a4-9bef-d70a438dddb0"
    },
    {
      "cell_type": "markdown",
      "source": "Social networking apps and music apps exhibit a similar trend where the average number of ratings is significantly influenced by a handful of dominant players like Facebook, Pinterest, Skype, Pandora, Spotify, and Shazam. As a result, the perceived popularity of these genres, particularly navigation, social networking, and music apps, may be inflated. The average ratings are heavily skewed by a small number of apps with a large user base, often reaching hundreds of thousands of ratings, while the majority of other apps struggle to surpass the 10,000 rating threshold. To gain a more accurate understanding of popularity, it would be beneficial to exclude these extremely popular apps within each genre and recalculate the averages. However, we will postpone this level of analysis for future consideration.\n\nOn average, reference apps receive 74,942 user ratings. It's important to note that the average rating is influenced by specific apps such as the Bible and Dictionary.com, which significantly contribute to the higher average rating.",
      "metadata": {},
      "id": "7a277252-3458-4b26-af32-3495461c5883"
    },
    {
      "cell_type": "code",
      "source": "for app in ios_final:\n    if app[-5] == 'Reference':\n        print(app[1], ':', app[5])",
      "metadata": {
        "trusted": true
      },
      "execution_count": 60,
      "outputs": [
        {
          "name": "stdout",
          "text": "Bible : 985920\nDictionary.com Dictionary & Thesaurus : 200047\nDictionary.com Dictionary & Thesaurus for iPad : 54175\nGoogle Translate : 26786\nMuslim Pro: Ramadan 2017 Prayer Times, Azan, Quran : 18418\nNew Furniture Mods - Pocket Wiki & Game Tools for Minecraft PC Edition : 17588\nMerriam-Webster Dictionary : 16849\nNight Sky : 12122\nCity Maps for Minecraft PE - The Best Maps for Minecraft Pocket Edition (MCPE) : 8535\nLUCKY BLOCK MOD ™ for Minecraft PC Edition - The Best Pocket Wiki & Mods Installer Tools : 4693\nGUNS MODS for Minecraft PC Edition - Mods Tools : 1497\nGuides for Pokémon GO - Pokemon GO News and Cheats : 826\nWWDC : 762\nHorror Maps for Minecraft PE - Download The Scariest Maps for Minecraft Pocket Edition (MCPE) Free : 718\nVPN Express : 14\nReal Bike Traffic Rider Virtual Reality Glasses : 8\n教えて!goo : 0\nJishokun-Japanese English Dictionary & Translator : 0\n",
          "output_type": "stream"
        }
      ],
      "id": "6c489b46-fc88-4b4e-9590-cf0938e465e9"
    },
    {
      "cell_type": "markdown",
      "source": "The niche of turning popular books into feature-rich apps shows potential. By enhancing the raw version of a book with additional elements like daily quotes, audio versions, quizzes, and an embedded dictionary, we can create an app that stands out in the saturated for-fun app market dominated by the App Store. This practical approach has a higher chance of attracting attention among the vast number of existing apps.\n\nWhile other popular genres like weather, food and drink, and finance exist, they don't align with our interests and capabilities:\n\nWeather apps have limited user engagement and profit potential through in-app ads, and acquiring reliable live weather data may involve connecting with non-free APIs.\nFood and drink apps, exemplified by major brands like Starbucks and McDonald's, require cooking and delivery services, which fall outside our company's scope.\nFinance apps involve complex financial operations that require specialized domain knowledge, which we currently lack.\nNext, let's delve into an analysis of the Google Play market.",
      "metadata": {},
      "id": "98e0e90b-9496-4acc-9503-d9bf87336717"
    },
    {
      "cell_type": "markdown",
      "source": "Most Popular Apps by Genre on Google Play",
      "metadata": {},
      "id": "5bf4929f-c2bc-41cf-9a96-8a332b7a61e3"
    },
    {
      "cell_type": "markdown",
      "source": "When it comes to the Google Play market, we have access to data regarding the number of installs, which can provide us with a better understanding of genre popularity. However, it's worth noting that the install numbers available to us are not highly precise. In many cases, the values are presented in open-ended ranges such as \"100+\", \"1,000+\", \"5,000+\", and so on.",
      "metadata": {},
      "id": "034bc957-9ec0-4158-aa3a-d16ada707210"
    },
    {
      "cell_type": "code",
      "source": "display_table(android_final, 5) # the Installs columns",
      "metadata": {
        "trusted": true
      },
      "execution_count": 61,
      "outputs": [
        {
          "name": "stdout",
          "text": "1,000,000+ : 15.726534296028879\n100,000+ : 11.552346570397113\n10,000,000+ : 10.548285198555957\n10,000+ : 10.198555956678701\n1,000+ : 8.393501805054152\n100+ : 6.915613718411552\n5,000,000+ : 6.825361010830325\n500,000+ : 5.561823104693141\n50,000+ : 4.7721119133574\n5,000+ : 4.512635379061372\n10+ : 3.5424187725631766\n500+ : 3.2490974729241873\n50,000,000+ : 2.3014440433213\n100,000,000+ : 2.1322202166064983\n50+ : 1.917870036101083\n5+ : 0.78971119133574\n1+ : 0.5076714801444043\n500,000,000+ : 0.2707581227436823\n1,000,000,000+ : 0.22563176895306858\n0+ : 0.04512635379061372\n0 : 0.01128158844765343\n",
          "output_type": "stream"
        }
      ],
      "id": "b508066b-0739-47da-ab2c-bbf65ab152fa"
    },
    {
      "cell_type": "markdown",
      "source": "The available data lacks precision regarding the number of installations for apps labeled with \"100,000+\" installs. We don't require exact precision for our goal of understanding which app genres attract the most users. To work with the data, we will consider apps with \"100,000+\" installs to have 100,000 installs, and \"1,000,000+\" installs to have 1,000,000 installs.\n\nTo perform calculations, we need to convert the installation numbers to float values. This requires removing commas and plus characters from the numbers to avoid conversion errors. We will handle this task within the provided loop, where we will also compute the average number of installs for each app genre (category).",
      "metadata": {},
      "id": "c57536d6-7b63-47ec-bab5-b89eff7b3619"
    },
    {
      "cell_type": "code",
      "source": "categories_android = freq_table(android_final, 1)\n\n# Iterate through each category in the `categories_android` list\nfor category in categories_android:\n    total = 0  # Variable to store the total number of installs for a category\n    len_category = 0  # Variable to store the number of apps in a category\n    # Iterate through each app in the `android_final` list\n    for app in android_final:\n        category_app = app[1]  # Get the category of the current app\n        if category_app == category:\n            n_installs = app[5]  # Get the number of installs of the current app\n            # Remove any commas and plus signs from the `n_installs` value\n            n_installs = n_installs.replace(',', '')\n            n_installs = n_installs.replace('+', '')\n            total += float(n_installs)  # Add the number of installs to the total\n            len_category += 1  # Increment the count of apps in the category\n    avg_n_installs = total / len_category  # Calculate the average number of installs for the category\n    print(category, ':', avg_n_installs)  # Print the category and its average number of installs\n",
      "metadata": {
        "trusted": true
      },
      "execution_count": 62,
      "outputs": [
        {
          "name": "stdout",
          "text": "ART_AND_DESIGN : 1986335.0877192982\nAUTO_AND_VEHICLES : 647317.8170731707\nBEAUTY : 513151.88679245283\nBOOKS_AND_REFERENCE : 8767811.894736841\nBUSINESS : 1712290.1474201474\nCOMICS : 817657.2727272727\nCOMMUNICATION : 38456119.167247385\nDATING : 854028.8303030303\nEDUCATION : 1833495.145631068\nENTERTAINMENT : 11640705.88235294\nEVENTS : 253542.22222222222\nFINANCE : 1387692.475609756\nFOOD_AND_DRINK : 1924897.7363636363\nHEALTH_AND_FITNESS : 4188821.9853479853\nHOUSE_AND_HOME : 1331540.5616438356\nLIBRARIES_AND_DEMO : 638503.734939759\nLIFESTYLE : 1437816.2687861272\nGAME : 15588015.603248259\nFAMILY : 3695641.8198090694\nMEDICAL : 120550.61980830671\nSOCIAL : 23253652.127118643\nSHOPPING : 7036877.311557789\nPHOTOGRAPHY : 17840110.40229885\nSPORTS : 3638640.1428571427\nTRAVEL_AND_LOCAL : 13984077.710144928\nTOOLS : 10801391.298666667\nPERSONALIZATION : 5201482.6122448975\nPRODUCTIVITY : 16787331.344927534\nPARENTING : 542603.6206896552\nWEATHER : 5074486.197183099\nVIDEO_PLAYERS : 24727872.452830188\nNEWS_AND_MAGAZINES : 9549178.467741935\nMAPS_AND_NAVIGATION : 4056941.7741935486\n",
          "output_type": "stream"
        }
      ],
      "id": "6a10a109-e89d-4c21-8ef2-30a561a67154"
    },
    {
      "cell_type": "markdown",
      "source": "Communication apps, on average, have a high number of installations, with an average of 38,456,119 installs. This average is largely influenced by a handful of apps that have achieved over one billion installations, such as WhatsApp, Facebook Messenger, Skype, Google Chrome, Gmail, and Hangouts. Additionally, there are several other communication apps with significant installations ranging from 100 to 500 million.",
      "metadata": {},
      "id": "5108ab21-9043-4b2a-a93d-29a7cb0980ba"
    },
    {
      "cell_type": "code",
      "source": "for app in android_final:\n    if app[1] == 'COMMUNICATION' and (app[5] == '1,000,000,000+'\n                                      or app[5] == '500,000,000+'\n                                      or app[5] == '100,000,000+'):\n        print(app[0], ':', app[5])",
      "metadata": {
        "trusted": true
      },
      "execution_count": 63,
      "outputs": [
        {
          "name": "stdout",
          "text": "WhatsApp Messenger : 1,000,000,000+\nimo beta free calls and text : 100,000,000+\nAndroid Messages : 100,000,000+\nGoogle Duo - High Quality Video Calls : 500,000,000+\nMessenger – Text and Video Chat for Free : 1,000,000,000+\nimo free video calls and chat : 500,000,000+\nSkype - free IM & video calls : 1,000,000,000+\nWho : 100,000,000+\nGO SMS Pro - Messenger, Free Themes, Emoji : 100,000,000+\nLINE: Free Calls & Messages : 500,000,000+\nGoogle Chrome: Fast & Secure : 1,000,000,000+\nFirefox Browser fast & private : 100,000,000+\nUC Browser - Fast Download Private & Secure : 500,000,000+\nGmail : 1,000,000,000+\nHangouts : 1,000,000,000+\nMessenger Lite: Free Calls & Messages : 100,000,000+\nKik : 100,000,000+\nKakaoTalk: Free Calls & Text : 100,000,000+\nOpera Mini - fast web browser : 100,000,000+\nOpera Browser: Fast and Secure : 100,000,000+\nTelegram : 100,000,000+\nTruecaller: Caller ID, SMS spam blocking & Dialer : 100,000,000+\nUC Browser Mini -Tiny Fast Private & Secure : 100,000,000+\nViber Messenger : 500,000,000+\nWeChat : 100,000,000+\nYahoo Mail – Stay Organized : 100,000,000+\nBBM - Free Calls & Messages : 100,000,000+\n",
          "output_type": "stream"
        }
      ],
      "id": "98bb1f69-b0e5-4b8a-ace4-6bf00a948281"
    },
    {
      "cell_type": "markdown",
      "source": "If we removed all the communication apps that have over 100 million installs, the average would be reduced roughly ten times:",
      "metadata": {},
      "id": "82ad783f-51bc-45cd-b062-fc86b37f5281"
    },
    {
      "cell_type": "code",
      "source": "under_100_m = []\n\nfor app in android_final:\n    n_installs = app[5]\n    n_installs = n_installs.replace(',', '')\n    n_installs = n_installs.replace('+', '')\n    if (app[1] == 'COMMUNICATION') and (float(n_installs) < 100000000):\n        under_100_m.append(float(n_installs))\n        ",
      "metadata": {
        "trusted": true
      },
      "execution_count": 64,
      "outputs": [],
      "id": "cb449dcf-d797-4530-9ab6-ecf14714ecbf"
    },
    {
      "cell_type": "code",
      "source": "sum(under_100_m) / len(under_100_m)",
      "metadata": {
        "trusted": true
      },
      "execution_count": 65,
      "outputs": [
        {
          "execution_count": 65,
          "output_type": "execute_result",
          "data": {
            "text/plain": "3603485.3884615386"
          },
          "metadata": {}
        }
      ],
      "id": "517464cf-478c-4dec-87fe-e7342c97bc1b"
    },
    {
      "cell_type": "markdown",
      "source": "The video players category follows a similar pattern with 24,727,872 installations, primarily dominated by popular apps like Youtube, Google Play Movies & TV, and MX Player. This trend of dominance by a few major players is also observed in other genres such as social apps (Facebook, Instagram, Google+), photography apps (Google Photos, popular photo editors), and productivity apps (Microsoft Word, Dropbox, Google Calendar, Evernote). While these genres appear popular, it raises concerns about the difficulty of competing against these established giants. The gaming genre is popular but saturated, so alternative app recommendations are sought. On the other hand, the books and reference genre shows promise, with an average of 8,767,811 installations, making it worth exploring further as it demonstrates potential for profitability on both the App Store and Google Play.",
      "metadata": {},
      "id": "ff65c513-59c5-45a6-bb8c-4133cf1100df"
    },
    {
      "cell_type": "code",
      "source": "for app in android_final:\n    if app[1] == 'BOOKS_AND_REFERENCE':\n        print(app[0], ':', app[5])",
      "metadata": {
        "trusted": true
      },
      "execution_count": 66,
      "outputs": [
        {
          "name": "stdout",
          "text": "E-Book Read - Read Book for free : 50,000+\nDownload free book with green book : 100,000+\nWikipedia : 10,000,000+\nCool Reader : 10,000,000+\nFree Panda Radio Music : 100,000+\nBook store : 1,000,000+\nFBReader: Favorite Book Reader : 10,000,000+\nEnglish Grammar Complete Handbook : 500,000+\nFree Books - Spirit Fanfiction and Stories : 1,000,000+\nGoogle Play Books : 1,000,000,000+\nAlReader -any text book reader : 5,000,000+\nOffline English Dictionary : 100,000+\nOffline: English to Tagalog Dictionary : 500,000+\nFamilySearch Tree : 1,000,000+\nCloud of Books : 1,000,000+\nRecipes of Prophetic Medicine for free : 500,000+\nReadEra – free ebook reader : 1,000,000+\nAnonymous caller detection : 10,000+\nEbook Reader : 5,000,000+\nLitnet - E-books : 100,000+\nRead books online : 5,000,000+\nEnglish to Urdu Dictionary : 500,000+\neBoox: book reader fb2 epub zip : 1,000,000+\nEnglish Persian Dictionary : 500,000+\nFlybook : 500,000+\nAll Maths Formulas : 1,000,000+\nAncestry : 5,000,000+\nHTC Help : 10,000,000+\nEnglish translation from Bengali : 100,000+\nPdf Book Download - Read Pdf Book : 100,000+\nFree Book Reader : 100,000+\neBoox new: Reader for fb2 epub zip books : 50,000+\nOnly 30 days in English, the guideline is guaranteed : 500,000+\nMoon+ Reader : 10,000,000+\nSH-02J Owner's Manual (Android 8.0) : 50,000+\nEnglish-Myanmar Dictionary : 1,000,000+\nGolden Dictionary (EN-AR) : 1,000,000+\nAll Language Translator Free : 1,000,000+\nAzpen eReader : 500,000+\nURBANO V 02 instruction manual : 100,000+\nBible : 100,000,000+\nC Programs and Reference : 50,000+\nC Offline Tutorial : 1,000+\nC Programs Handbook : 50,000+\nAmazon Kindle : 100,000,000+\nAab e Hayat Full Novel : 100,000+\nAldiko Book Reader : 10,000,000+\nGoogle I/O 2018 : 500,000+\nR Language Reference Guide : 10,000+\nLearn R Programming Full : 5,000+\nR Programing Offline Tutorial : 1,000+\nGuide for R Programming : 5+\nLearn R Programming : 10+\nR Quick Reference Big Data : 1,000+\nV Made : 100,000+\nWattpad 📖 Free Books : 100,000,000+\nDictionary - WordWeb : 5,000,000+\nGuide (for X-MEN) : 100,000+\nAC Air condition Troubleshoot,Repair,Maintenance : 5,000+\nAE Bulletins : 1,000+\nAe Allah na Dai (Rasa) : 10,000+\n50000 Free eBooks & Free AudioBooks : 5,000,000+\nAg PhD Field Guide : 10,000+\nAg PhD Deficiencies : 10,000+\nAg PhD Planting Population Calculator : 1,000+\nAg PhD Soybean Diseases : 1,000+\nFertilizer Removal By Crop : 50,000+\nA-J Media Vault : 50+\nAl-Quran (Free) : 10,000,000+\nAl Quran (Tafsir & by Word) : 500,000+\nAl Quran Indonesia : 10,000,000+\nAl'Quran Bahasa Indonesia : 10,000,000+\nAl Quran Al karim : 1,000,000+\nAl-Muhaffiz : 50,000+\nAl Quran : EAlim - Translations & MP3 Offline : 5,000,000+\nAl-Quran 30 Juz free copies : 500,000+\nKoran Read &MP3 30 Juz Offline : 1,000,000+\nHafizi Quran 15 lines per page : 1,000,000+\nQuran for Android : 10,000,000+\nSurah Al-Waqiah : 100,000+\nHisnul Al Muslim - Hisn Invocations & Adhkaar : 100,000+\nSatellite AR : 1,000,000+\nAudiobooks from Audible : 100,000,000+\nKinot & Eichah for Tisha B'Av : 10,000+\nAW Tozer Devotionals - Daily : 5,000+\nTozer Devotional -Series 1 : 1,000+\nThe Pursuit of God : 1,000+\nAY Sing : 5,000+\nAy Hasnain k Nana Milad Naat : 10,000+\nAy Mohabbat Teri Khatir Novel : 10,000+\nArizona Statutes, ARS (AZ Law) : 1,000+\nOxford A-Z of English Usage : 1,000,000+\nBD Fishpedia : 1,000+\nBD All Sim Offer : 10,000+\nYouboox - Livres, BD et magazines : 500,000+\nB&H Kids AR : 10,000+\nB y H Niños ES : 5,000+\nDictionary.com: Find Definitions for English Words : 10,000,000+\nEnglish Dictionary - Offline : 10,000,000+\nBible KJV : 5,000,000+\nBorneo Bible, BM Bible : 10,000+\nMOD Black for BM : 100+\nBM Box : 1,000+\nAnime Mod for BM : 100+\nNOOK: Read eBooks & Magazines : 10,000,000+\nNOOK Audiobooks : 500,000+\nNOOK App for NOOK Devices : 500,000+\nBrowsery by Barnes & Noble : 5,000+\nbp e-store : 1,000+\nBrilliant Quotes: Life, Love, Family & Motivation : 1,000,000+\nBR Ambedkar Biography & Quotes : 10,000+\nBU Alsace : 100+\nCatholic La Bu Zo Kam : 500+\nKhrifa Hla Bu (Solfa) : 10+\nKristian Hla Bu : 10,000+\nSA HLA BU : 1,000+\nLearn SAP BW : 500+\nLearn SAP BW on HANA : 500+\nCA Laws 2018 (California Laws and Codes) : 5,000+\nBootable Methods(USB-CD-DVD) : 10,000+\ncloudLibrary : 100,000+\nSDA Collegiate Quarterly : 500+\nSabbath School : 100,000+\nCypress College Library : 100+\nStats Royale for Clash Royale : 1,000,000+\nGATE 21 years CS Papers(2011-2018 Solved) : 50+\nLearn CT Scan Of Head : 5,000+\nEasy Cv maker 2018 : 10,000+\nHow to Write CV : 100,000+\nCW Nuclear : 1,000+\nCY Spray nozzle : 10+\nBibleRead En Cy Zh Yue : 5+\nCZ-Help : 5+\nModlitební knížka CZ : 500+\nGuide for DB Xenoverse : 10,000+\nGuide for DB Xenoverse 2 : 10,000+\nGuide for IMS DB : 10+\nDC HSEMA : 5,000+\nDC Public Library : 1,000+\nPainting Lulu DC Super Friends : 1,000+\nDictionary : 10,000,000+\nFix Error Google Playstore : 1,000+\nD. H. Lawrence Poems FREE : 1,000+\nBilingual Dictionary Audio App : 5,000+\nDM Screen : 10,000+\nwikiHow: how to do anything : 1,000,000+\nDr. Doug's Tips : 1,000+\nBible du Semeur-BDS (French) : 50,000+\nLa citadelle du musulman : 50,000+\nDV 2019 Entry Guide : 10,000+\nDV 2019 - EDV Photo & Form : 50,000+\nDV 2018 Winners Guide : 1,000+\nEB Annual Meetings : 1,000+\nEC - AP & Telangana : 5,000+\nTN Patta Citta & EC : 10,000+\nAP Stamps and Registration : 10,000+\nCompactiMa EC pH Calibration : 100+\nEGW Writings 2 : 100,000+\nEGW Writings : 1,000,000+\nBible with EGW Comments : 100,000+\nMy Little Pony AR Guide : 1,000,000+\nSDA Sabbath School Quarterly : 500,000+\nDuaa Ek Ibaadat : 5,000+\nSpanish English Translator : 10,000,000+\nDictionary - Merriam-Webster : 10,000,000+\nJW Library : 10,000,000+\nOxford Dictionary of English : Free : 10,000,000+\nEnglish Hindi Dictionary : 10,000,000+\nEnglish to Hindi Dictionary : 5,000,000+\nEP Research Service : 1,000+\nHymnes et Louanges : 100,000+\nEU Charter : 1,000+\nEU Data Protection : 1,000+\nEU IP Codes : 100+\nEW PDF : 5+\nBakaReader EX : 100,000+\nEZ Quran : 50,000+\nFA Part 1 & 2 Past Papers Solved Free – Offline : 5,000+\nLa Fe de Jesus : 1,000+\nLa Fe de Jesús : 500+\nLe Fe de Jesus : 500+\nFlorida - Pocket Brainbook : 1,000+\nFlorida Statutes (FL Code) : 1,000+\nEnglish To Shona Dictionary : 10,000+\nGreek Bible FP (Audio) : 1,000+\nGolden Dictionary (FR-AR) : 500,000+\nFanfic-FR : 5,000+\nBulgarian French Dictionary Fr : 10,000+\nChemin (fr) : 1,000+\nThe SCP Foundation DB fr nn5n : 1,000+\n",
          "output_type": "stream"
        }
      ],
      "id": "f73b912b-e96b-4f86-8de6-8b844b765f17"
    },
    {
      "cell_type": "markdown",
      "source": "The book and reference genre encompasses a range of apps, including software for ebook processing and reading, diverse library collections, dictionaries, programming and language tutorials, and more. However, the average number of installations in this genre is influenced by a few highly popular apps that have a significant impact on the overall average.",
      "metadata": {},
      "id": "0712d8f0-338f-44b2-8fa3-cdbb336b80f2"
    },
    {
      "cell_type": "code",
      "source": "for app in android_final:\n    if app[1] == 'BOOKS_AND_REFERENCE' and (app[5] == '1,000,000,000+'\n                                            or app[5] == '500,000,000+'\n                                            or app[5] == '100,000,000+'):\n        print(app[0], ':', app[5])",
      "metadata": {
        "trusted": true
      },
      "execution_count": 67,
      "outputs": [
        {
          "name": "stdout",
          "text": "Google Play Books : 1,000,000,000+\nBible : 100,000,000+\nAmazon Kindle : 100,000,000+\nWattpad 📖 Free Books : 100,000,000+\nAudiobooks from Audible : 100,000,000+\n",
          "output_type": "stream"
        }
      ],
      "id": "dc6c10c9-1c07-4893-b3ab-14e98f1cf924"
    },
    {
      "cell_type": "markdown",
      "source": "Nevertheless, it appears that the market for book and reference apps is characterized by a limited number of highly popular applications, indicating potential opportunities. To generate app ideas, let's focus on apps that fall within the moderate popularity range, with downloads ranging from 1,000,000 to 100,000,000.",
      "metadata": {},
      "id": "9a761c71-4ff7-48ca-8b65-ac2fde28b0da"
    },
    {
      "cell_type": "code",
      "source": "for app in android_final:\n    if app[1] == 'BOOKS_AND_REFERENCE' and (app[5] == '1,000,000+'\n                                            or app[5] == '5,000,000+'\n                                            or app[5] == '10,000,000+'\n                                            or app[5] == '50,000,000+'):\n        print(app[0], ':', app[5])",
      "metadata": {
        "trusted": true
      },
      "execution_count": 68,
      "outputs": [
        {
          "name": "stdout",
          "text": "Wikipedia : 10,000,000+\nCool Reader : 10,000,000+\nBook store : 1,000,000+\nFBReader: Favorite Book Reader : 10,000,000+\nFree Books - Spirit Fanfiction and Stories : 1,000,000+\nAlReader -any text book reader : 5,000,000+\nFamilySearch Tree : 1,000,000+\nCloud of Books : 1,000,000+\nReadEra – free ebook reader : 1,000,000+\nEbook Reader : 5,000,000+\nRead books online : 5,000,000+\neBoox: book reader fb2 epub zip : 1,000,000+\nAll Maths Formulas : 1,000,000+\nAncestry : 5,000,000+\nHTC Help : 10,000,000+\nMoon+ Reader : 10,000,000+\nEnglish-Myanmar Dictionary : 1,000,000+\nGolden Dictionary (EN-AR) : 1,000,000+\nAll Language Translator Free : 1,000,000+\nAldiko Book Reader : 10,000,000+\nDictionary - WordWeb : 5,000,000+\n50000 Free eBooks & Free AudioBooks : 5,000,000+\nAl-Quran (Free) : 10,000,000+\nAl Quran Indonesia : 10,000,000+\nAl'Quran Bahasa Indonesia : 10,000,000+\nAl Quran Al karim : 1,000,000+\nAl Quran : EAlim - Translations & MP3 Offline : 5,000,000+\nKoran Read &MP3 30 Juz Offline : 1,000,000+\nHafizi Quran 15 lines per page : 1,000,000+\nQuran for Android : 10,000,000+\nSatellite AR : 1,000,000+\nOxford A-Z of English Usage : 1,000,000+\nDictionary.com: Find Definitions for English Words : 10,000,000+\nEnglish Dictionary - Offline : 10,000,000+\nBible KJV : 5,000,000+\nNOOK: Read eBooks & Magazines : 10,000,000+\nBrilliant Quotes: Life, Love, Family & Motivation : 1,000,000+\nStats Royale for Clash Royale : 1,000,000+\nDictionary : 10,000,000+\nwikiHow: how to do anything : 1,000,000+\nEGW Writings : 1,000,000+\nMy Little Pony AR Guide : 1,000,000+\nSpanish English Translator : 10,000,000+\nDictionary - Merriam-Webster : 10,000,000+\nJW Library : 10,000,000+\nOxford Dictionary of English : Free : 10,000,000+\nEnglish Hindi Dictionary : 10,000,000+\nEnglish to Hindi Dictionary : 5,000,000+\n",
          "output_type": "stream"
        }
      ],
      "id": "50791863-99b8-4bd2-a274-4d25f58fda82"
    },
    {
      "cell_type": "markdown",
      "source": "\nThe book and reference niche is currently dominated by ebook processing and reading software, library collections, and dictionaries. Consequently, it might not be advisable to develop similar apps as competition in this area is significant. Interestingly, we observe a considerable number of apps centered around the book Quran, indicating the potential profitability of building an app based on a popular book. This suggests that transforming a well-liked, potentially more recent book into an app could be lucrative in both the Google Play and App Store markets. However, since the market is already saturated with libraries, it would be essential to incorporate additional distinctive features beyond the basic book version. These could include daily quotes from the book, an audio rendition of the book, book-related quizzes, a discussion forum for users, and more.",
      "metadata": {},
      "id": "011bcbda-53fd-4d2a-a17c-49b3ee92d785"
    },
    {
      "cell_type": "markdown",
      "source": "Conclusion ",
      "metadata": {},
      "id": "e1c86029-8f42-424c-acd8-ad915e174d20"
    },
    {
      "cell_type": "markdown",
      "source": "After analyzing data from the App Store and Google Play mobile apps, we have determined that creating an app based on a popular book, preferably a recent one, could be a lucrative venture in both markets. However, due to the existing abundance of library apps, incorporating unique elements beyond the book itself is essential. These could include daily quotes sourced from the book, an audio rendition, interactive quizzes, and a dedicated forum enabling users to engage in discussions centered around the book.",
      "metadata": {},
      "id": "03837d6d-0cd5-4c36-ad40-87b4eac686ef"
    },
    {
      "cell_type": "code",
      "source": "",
      "metadata": {},
      "execution_count": null,
      "outputs": [],
      "id": "62dec0de-01b1-4bf1-8428-21add4a906b4"
    }
  ]
}