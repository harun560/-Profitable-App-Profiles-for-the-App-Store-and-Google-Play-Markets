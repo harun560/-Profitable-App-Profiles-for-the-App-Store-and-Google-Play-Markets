{
  "metadata": {
    "kernelspec": {
      "name": "python",
      "display_name": "Python (Pyodide)",
      "language": "python"
    },
    "language_info": {
      "codemirror_mode": {
        "name": "python",
        "version": 3
      },
      "file_extension": ".py",
      "mimetype": "text/x-python",
      "name": "python",
      "nbconvert_exporter": "python",
      "pygments_lexer": "ipython3",
      "version": "3.8"
    }
  },
  "nbformat_minor": 5,
  "nbformat": 4,
  "cells": [
    {
      "cell_type": "markdown",
      "source": " Profitable App Profiles for the App Store and Google Play Markets",
      "metadata": {},
      "id": "74104cb4-db3f-45b4-aefb-772bcaa7882f"
    },
    {
      "cell_type": "markdown",
      "source": "In our data analysis project, we, as a mobile app development company, will be exploring data to gain valuable insights into the factors that influence the attraction of more users to our Android and iOS mobile apps, available on Google Play and the App Store.\n\nAs a company that heavily relies on in-app ads for revenue, our success is directly tied to the number of users we acquire. With a larger user base, we can enhance engagement with our in-app ads and generate higher revenue. Hence, the main objective of this project is to employ data analysis techniques to assist our developers in understanding the types of apps that are more likely to draw a larger audience.\n\nThrough the examination of various factors such as app categories, user ratings, app size, and even pricing (if applicable), along with other relevant metrics, we aim to uncover patterns and trends that can provide guidance to our development team. These insights will enable us to create apps with a higher potential for popularity and user attraction. Ultimately, our analysis will contribute to strategic decision-making and optimization of our app development process, fostering increased user engagement and revenue generation.",
      "metadata": {},
      "id": "17b33a96-efe4-4514-94de-ce0d109a6ab3"
    },
    {
      "cell_type": "markdown",
      "source": "open both csv files using the default methods ",
      "metadata": {},
      "id": "edbc9f91-cc95-4e67-8b1c-9be0fe744ec0"
    },
    {
      "cell_type": "code",
      "source": "from csv import reader ",
      "metadata": {
        "trusted": true
      },
      "execution_count": 8,
      "outputs": [],
      "id": "2942d04a-f3f4-48e2-afc9-3a1e3befca13"
    },
    {
      "cell_type": "code",
      "source": "open_file = open('AppleStore.csv')\nread_file = reader(open_file)\nios = list(read_file)\nios_header = ios[0]\nios_main = ios[1:]",
      "metadata": {
        "trusted": true
      },
      "execution_count": 59,
      "outputs": [],
      "id": "7a8c3b40-8a4f-4893-9f5c-a81a3f140433"
    },
    {
      "cell_type": "code",
      "source": "open_file = open('googleplaystore.csv')\nread_file = reader(open_file)\nandroid = list(read_file)\nandroid_header = android[0]\nandroid_main = android[1:]",
      "metadata": {
        "trusted": true
      },
      "execution_count": 60,
      "outputs": [],
      "id": "1693171e-76f0-4624-8e95-022afc0a8af7"
    },
    {
      "cell_type": "markdown",
      "source": " created a function named explore_data() that you can repeatedly use to print rows in a readable way.",
      "metadata": {},
      "id": "fb234156-3ea1-479b-b707-ddb302335fb6"
    },
    {
      "cell_type": "code",
      "source": "def explore_data(dataset, start, end, rows_and_columns=False):\n    dataset_slice = dataset[start:end]    \n    for row in dataset_slice:\n        print(row)\n        print('\\n') # adds a new (empty) line after each row\n\n    if rows_and_columns:\n        print('Number of rows:', len(dataset))\n        print('Number of columns:', len(dataset[0]))",
      "metadata": {
        "trusted": true
      },
      "execution_count": 61,
      "outputs": [],
      "id": "da2129c2-5bf9-4580-b6fc-c8f76c2a477d"
    },
    {
      "cell_type": "markdown",
      "source": "Print the first few rows of each dataset.",
      "metadata": {},
      "id": "e071d120-11b9-4fde-b088-b645091a5e55"
    },
    {
      "cell_type": "code",
      "source": "print(ios_main[:2])",
      "metadata": {
        "trusted": true
      },
      "execution_count": 22,
      "outputs": [
        {
          "name": "stdout",
          "text": "[['284882215', 'Facebook', '389879808', 'USD', '0.0', '2974676', '212', '3.5', '3.5', '95.0', '4+', 'Social Networking', '37', '1', '29', '1'], ['389801252', 'Instagram', '113954816', 'USD', '0.0', '2161558', '1289', '4.5', '4.0', '10.23', '12+', 'Photo & Video', '37', '0', '29', '1']]\n",
          "output_type": "stream"
        }
      ],
      "id": "b43ef60b-f0ca-4ce6-886e-284ddb0c7d30"
    },
    {
      "cell_type": "code",
      "source": "print(android_main[:2])",
      "metadata": {
        "trusted": true
      },
      "execution_count": 31,
      "outputs": [
        {
          "name": "stdout",
          "text": "[['Photo Editor & Candy Camera & Grid & ScrapBook', 'ART_AND_DESIGN', '4.1', '159', '19M', '10,000+', 'Free', '0', 'Everyone', 'Art & Design', 'January 7, 2018', '1.0.0', '4.0.3 and up'], ['Coloring book moana', 'ART_AND_DESIGN', '3.9', '967', '14M', '500,000+', 'Free', '0', 'Everyone', 'Art & Design;Pretend Play', 'January 15, 2018', '2.0.0', '4.0.3 and up']]\n",
          "output_type": "stream"
        }
      ],
      "id": "92626ced-9507-4d9d-b486-e9f72d2960dd"
    },
    {
      "cell_type": "markdown",
      "source": "the number of rows and columns of each dataset ",
      "metadata": {},
      "id": "50fa3de7-1ef7-4145-9aef-2e0ae8c0e33d"
    },
    {
      "cell_type": "code",
      "source": "explore_data(ios_main , 0, 3, True)",
      "metadata": {
        "trusted": true
      },
      "execution_count": 24,
      "outputs": [
        {
          "name": "stdout",
          "text": "['284882215', 'Facebook', '389879808', 'USD', '0.0', '2974676', '212', '3.5', '3.5', '95.0', '4+', 'Social Networking', '37', '1', '29', '1']\n\n\n['389801252', 'Instagram', '113954816', 'USD', '0.0', '2161558', '1289', '4.5', '4.0', '10.23', '12+', 'Photo & Video', '37', '0', '29', '1']\n\n\n['529479190', 'Clash of Clans', '116476928', 'USD', '0.0', '2130805', '579', '4.5', '4.5', '9.24.12', '9+', 'Games', '38', '5', '18', '1']\n\n\nNumber of rows: 7197\nNumber of columns: 16\n",
          "output_type": "stream"
        }
      ],
      "id": "9e13a2c2-7d5d-4ed8-9064-57cb39e5c477"
    },
    {
      "cell_type": "code",
      "source": "explore_data(adroid_main , 0, 3, True)",
      "metadata": {
        "trusted": true
      },
      "execution_count": 25,
      "outputs": [
        {
          "name": "stdout",
          "text": "['Photo Editor & Candy Camera & Grid & ScrapBook', 'ART_AND_DESIGN', '4.1', '159', '19M', '10,000+', 'Free', '0', 'Everyone', 'Art & Design', 'January 7, 2018', '1.0.0', '4.0.3 and up']\n\n\n['Coloring book moana', 'ART_AND_DESIGN', '3.9', '967', '14M', '500,000+', 'Free', '0', 'Everyone', 'Art & Design;Pretend Play', 'January 15, 2018', '2.0.0', '4.0.3 and up']\n\n\n['U Launcher Lite – FREE Live Cool Themes, Hide Apps', 'ART_AND_DESIGN', '4.7', '87510', '8.7M', '5,000,000+', 'Free', '0', 'Everyone', 'Art & Design', 'August 1, 2018', '1.2.4', '4.0.3 and up']\n\n\nNumber of rows: 10841\nNumber of columns: 13\n",
          "output_type": "stream"
        }
      ],
      "id": "4155df7a-46d9-48c0-a612-2426f27de224"
    },
    {
      "cell_type": "markdown",
      "source": "To Familirize with data we will print each of dataset column names ",
      "metadata": {},
      "id": "32223156-c8a2-41eb-bae3-228a67bf31e3"
    },
    {
      "cell_type": "code",
      "source": "print(android_header)",
      "metadata": {
        "trusted": true
      },
      "execution_count": 26,
      "outputs": [
        {
          "name": "stdout",
          "text": "['App', 'Category', 'Rating', 'Reviews', 'Size', 'Installs', 'Type', 'Price', 'Content Rating', 'Genres', 'Last Updated', 'Current Ver', 'Android Ver']\n",
          "output_type": "stream"
        }
      ],
      "id": "fbe42cde-48d6-407f-879c-450a4a1650a4"
    },
    {
      "cell_type": "code",
      "source": "print(ios_header)",
      "metadata": {
        "trusted": true
      },
      "execution_count": 27,
      "outputs": [
        {
          "name": "stdout",
          "text": "['id', 'track_name', 'size_bytes', 'currency', 'price', 'rating_count_tot', 'rating_count_ver', 'user_rating', 'user_rating_ver', 'ver', 'cont_rating', 'prime_genre', 'sup_devices.num', 'ipadSc_urls.num', 'lang.num', 'vpp_lic']\n",
          "output_type": "stream"
        }
      ],
      "id": "78dd1cb2-62c3-4471-9e14-17a7ae111c9f"
    },
    {
      "cell_type": "markdown",
      "source": "After identifying an error in one row of the Google dataset during our discussion, we have decided to take the necessary step of deleting it to maintain the overall efficiency of our analysis\n\nTo ensure that the deletion has taken effect and to maintain transparency, we will print the length of the Google dataset before and after removing the row containing the error. This will allow us to verify the impact of the deletion on the dataset's overall length and confirm the desired efficiency in our analysis.",
      "metadata": {},
      "id": "febc3eb0-5e08-4f68-979b-41deea6b0c67"
    },
    {
      "cell_type": "code",
      "source": "print(android_header)",
      "metadata": {
        "trusted": true
      },
      "execution_count": 48,
      "outputs": [
        {
          "name": "stdout",
          "text": "['App', 'Category', 'Rating', 'Reviews', 'Size', 'Installs', 'Type', 'Price', 'Content Rating', 'Genres', 'Last Updated', 'Current Ver', 'Android Ver']\n",
          "output_type": "stream"
        }
      ],
      "id": "b38add73-db59-4fbc-b36b-1195af7c05d9"
    },
    {
      "cell_type": "code",
      "source": "del android_main[10472]",
      "metadata": {
        "trusted": true
      },
      "execution_count": 64,
      "outputs": [],
      "id": "ee4e768d-6447-4482-b7d3-f89e55ea973c"
    },
    {
      "cell_type": "code",
      "source": "print(len(android_main))",
      "metadata": {
        "trusted": true
      },
      "execution_count": 65,
      "outputs": [
        {
          "name": "stdout",
          "text": "10840\n",
          "output_type": "stream"
        }
      ],
      "id": "d6ce4b09-95e4-46d7-93b9-3e4dd5cb6c24"
    },
    {
      "cell_type": "markdown",
      "source": "Before we commence with our data analysis, it is essential to perform data cleaning tasks. One method we can employ is removing duplicates. However, before proceeding with duplicate removal, we need to identify whether there are any duplicates present in our dataset.",
      "metadata": {},
      "id": "c1b96493-82a1-4914-99d8-2bf17accf182"
    },
    {
      "cell_type": "code",
      "source": "duplicate_apps = []\nunique_apps = []\nfor app in android_main:\n    name = app[0]\n    if name not  in unique_apps:\n        unique_apps.append(name)\n    else:\n        duplicate_apps.append(name)\nprint(\"Number of unique apps is :\", len(unique_apps))\nprint(\"Example of duplicate apps are:\", duplicate_apps[:5])      \n        \n        \n        ",
      "metadata": {
        "trusted": true
      },
      "execution_count": 66,
      "outputs": [
        {
          "name": "stdout",
          "text": "Number of unique apps is : 9659\nExample of duplicate apps are: ['Quick PDF Scanner + OCR FREE', 'Box', 'Google My Business', 'ZOOM Cloud Meetings', 'join.me - Simple Meetings']\n",
          "output_type": "stream"
        }
      ],
      "id": "a1e522f9-c3c5-4774-aadb-ce873c1e786c"
    },
    {
      "cell_type": "markdown",
      "source": "As we can see there is alot duplicate apps in our dataset and we need to find a way to remove it ",
      "metadata": {},
      "id": "1cd8faa8-421b-4b7c-a1c7-bd842049dc79"
    },
    {
      "cell_type": "code",
      "source": "reviews_max = {}\nfor app in android_main:\n    name = app[0]\n    n_reviews = float(app[3])\n    if name in reviews_max and reviews_max[name] < n_reviews:\n        reviews_max[name] = n_reviews\n    elif name not in reviews_max:\n         reviews_max[name] = n_reviews\n        ",
      "metadata": {
        "trusted": true
      },
      "execution_count": 70,
      "outputs": [],
      "id": "94dd08e9-d805-449a-a3ef-067580c9a2ef"
    },
    {
      "cell_type": "code",
      "source": "print(len(android_main))",
      "metadata": {
        "trusted": true
      },
      "execution_count": 71,
      "outputs": [
        {
          "name": "stdout",
          "text": "10840\n",
          "output_type": "stream"
        }
      ],
      "id": "1df9f913-6a9a-437f-8165-acb9b6478b87"
    },
    {
      "cell_type": "code",
      "source": "android_clean = []\nalready_added = []\nfor app in android_main:\n    name = app[0]\n    n_reviews = float(app[3])\n    if (n_reviews == reviews_max[name]) and (name not in already_added):\n        android_clean.append(app)\n        already_added.append(name)\n    \n    ",
      "metadata": {
        "trusted": true
      },
      "execution_count": 74,
      "outputs": [],
      "id": "0d9ed945-47e0-4042-87c9-c9bce16ff2f9"
    },
    {
      "cell_type": "code",
      "source": "print(len(android_clean))",
      "metadata": {
        "trusted": true
      },
      "execution_count": 76,
      "outputs": [
        {
          "name": "stdout",
          "text": "9659\n",
          "output_type": "stream"
        }
      ],
      "id": "f0af11c4-6cdf-46e9-8fe4-75c854844b92"
    },
    {
      "cell_type": "code",
      "source": "",
      "metadata": {},
      "execution_count": null,
      "outputs": [],
      "id": "3f65fd08-0c31-4042-b85f-5bc279f9c7f2"
    }
  ]
}