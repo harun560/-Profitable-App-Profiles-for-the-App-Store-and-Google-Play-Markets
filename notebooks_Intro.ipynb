{
  "metadata": {
    "kernelspec": {
      "name": "python",
      "display_name": "Python (Pyodide)",
      "language": "python"
    },
    "language_info": {
      "codemirror_mode": {
        "name": "python",
        "version": 3
      },
      "file_extension": ".py",
      "mimetype": "text/x-python",
      "name": "python",
      "nbconvert_exporter": "python",
      "pygments_lexer": "ipython3",
      "version": "3.8"
    }
  },
  "nbformat_minor": 5,
  "nbformat": 4,
  "cells": [
    {
      "cell_type": "markdown",
      "source": " Profitable App Profiles for the App Store and Google Play Markets",
      "metadata": {},
      "id": "74104cb4-db3f-45b4-aefb-772bcaa7882f"
    },
    {
      "cell_type": "markdown",
      "source": "In our data analysis project, we, as a mobile app development company, will be exploring data to gain valuable insights into the factors that influence the attraction of more users to our Android and iOS mobile apps, available on Google Play and the App Store.\n\nAs a company that heavily relies on in-app ads for revenue, our success is directly tied to the number of users we acquire. With a larger user base, we can enhance engagement with our in-app ads and generate higher revenue. Hence, the main objective of this project is to employ data analysis techniques to assist our developers in understanding the types of apps that are more likely to draw a larger audience.\n\nThrough the examination of various factors such as app categories, user ratings, app size, and even pricing (if applicable), along with other relevant metrics, we aim to uncover patterns and trends that can provide guidance to our development team. These insights will enable us to create apps with a higher potential for popularity and user attraction. Ultimately, our analysis will contribute to strategic decision-making and optimization of our app development process, fostering increased user engagement and revenue generation.",
      "metadata": {},
      "id": "17b33a96-efe4-4514-94de-ce0d109a6ab3"
    },
    {
      "cell_type": "markdown",
      "source": "open both csv files using the default methods ",
      "metadata": {},
      "id": "edbc9f91-cc95-4e67-8b1c-9be0fe744ec0"
    },
    {
      "cell_type": "code",
      "source": "from csv import reader ",
      "metadata": {
        "trusted": true
      },
      "execution_count": 8,
      "outputs": [],
      "id": "2942d04a-f3f4-48e2-afc9-3a1e3befca13"
    },
    {
      "cell_type": "code",
      "source": "open_file = open('AppleStore.csv')\nread_file = reader(open_file)\nios = list(read_file)\nios_header = ios[0]\nios_main = ios[1:]",
      "metadata": {
        "trusted": true
      },
      "execution_count": 9,
      "outputs": [],
      "id": "7a8c3b40-8a4f-4893-9f5c-a81a3f140433"
    },
    {
      "cell_type": "code",
      "source": "open_file = open('googleplaystore.csv')\nread_file = reader(open_file)\nandroid = list(read_file)\nandroid_header = android[0]\nadroid_main = android[1:]",
      "metadata": {
        "trusted": true
      },
      "execution_count": 16,
      "outputs": [],
      "id": "1693171e-76f0-4624-8e95-022afc0a8af7"
    },
    {
      "cell_type": "markdown",
      "source": " created a function named explore_data() that you can repeatedly use to print rows in a readable way.",
      "metadata": {},
      "id": "fb234156-3ea1-479b-b707-ddb302335fb6"
    },
    {
      "cell_type": "code",
      "source": "def explore_data(dataset, start, end, rows_and_columns=False):\n    dataset_slice = dataset[start:end]    \n    for row in dataset_slice:\n        print(row)\n        print('\\n') # adds a new (empty) line after each row\n\n    if rows_and_columns:\n        print('Number of rows:', len(dataset))\n        print('Number of columns:', len(dataset[0]))",
      "metadata": {
        "trusted": true
      },
      "execution_count": 21,
      "outputs": [],
      "id": "da2129c2-5bf9-4580-b6fc-c8f76c2a477d"
    },
    {
      "cell_type": "markdown",
      "source": "Print the first few rows of each dataset.",
      "metadata": {},
      "id": "e071d120-11b9-4fde-b088-b645091a5e55"
    },
    {
      "cell_type": "code",
      "source": "print(ios_main[:2])",
      "metadata": {
        "trusted": true
      },
      "execution_count": 22,
      "outputs": [
        {
          "name": "stdout",
          "text": "[['284882215', 'Facebook', '389879808', 'USD', '0.0', '2974676', '212', '3.5', '3.5', '95.0', '4+', 'Social Networking', '37', '1', '29', '1'], ['389801252', 'Instagram', '113954816', 'USD', '0.0', '2161558', '1289', '4.5', '4.0', '10.23', '12+', 'Photo & Video', '37', '0', '29', '1']]\n",
          "output_type": "stream"
        }
      ],
      "id": "b43ef60b-f0ca-4ce6-886e-284ddb0c7d30"
    },
    {
      "cell_type": "code",
      "source": "print(adroid_main[:2])",
      "metadata": {
        "trusted": true
      },
      "execution_count": 23,
      "outputs": [
        {
          "name": "stdout",
          "text": "[['Photo Editor & Candy Camera & Grid & ScrapBook', 'ART_AND_DESIGN', '4.1', '159', '19M', '10,000+', 'Free', '0', 'Everyone', 'Art & Design', 'January 7, 2018', '1.0.0', '4.0.3 and up'], ['Coloring book moana', 'ART_AND_DESIGN', '3.9', '967', '14M', '500,000+', 'Free', '0', 'Everyone', 'Art & Design;Pretend Play', 'January 15, 2018', '2.0.0', '4.0.3 and up']]\n",
          "output_type": "stream"
        }
      ],
      "id": "92626ced-9507-4d9d-b486-e9f72d2960dd"
    },
    {
      "cell_type": "markdown",
      "source": "the number of rows and columns of each dataset ",
      "metadata": {},
      "id": "50fa3de7-1ef7-4145-9aef-2e0ae8c0e33d"
    },
    {
      "cell_type": "code",
      "source": "explore_data(ios_main , 0, 3, True)",
      "metadata": {
        "trusted": true
      },
      "execution_count": 24,
      "outputs": [
        {
          "name": "stdout",
          "text": "['284882215', 'Facebook', '389879808', 'USD', '0.0', '2974676', '212', '3.5', '3.5', '95.0', '4+', 'Social Networking', '37', '1', '29', '1']\n\n\n['389801252', 'Instagram', '113954816', 'USD', '0.0', '2161558', '1289', '4.5', '4.0', '10.23', '12+', 'Photo & Video', '37', '0', '29', '1']\n\n\n['529479190', 'Clash of Clans', '116476928', 'USD', '0.0', '2130805', '579', '4.5', '4.5', '9.24.12', '9+', 'Games', '38', '5', '18', '1']\n\n\nNumber of rows: 7197\nNumber of columns: 16\n",
          "output_type": "stream"
        }
      ],
      "id": "9e13a2c2-7d5d-4ed8-9064-57cb39e5c477"
    },
    {
      "cell_type": "code",
      "source": "explore_data(adroid_main , 0, 3, True)",
      "metadata": {
        "trusted": true
      },
      "execution_count": 25,
      "outputs": [
        {
          "name": "stdout",
          "text": "['Photo Editor & Candy Camera & Grid & ScrapBook', 'ART_AND_DESIGN', '4.1', '159', '19M', '10,000+', 'Free', '0', 'Everyone', 'Art & Design', 'January 7, 2018', '1.0.0', '4.0.3 and up']\n\n\n['Coloring book moana', 'ART_AND_DESIGN', '3.9', '967', '14M', '500,000+', 'Free', '0', 'Everyone', 'Art & Design;Pretend Play', 'January 15, 2018', '2.0.0', '4.0.3 and up']\n\n\n['U Launcher Lite – FREE Live Cool Themes, Hide Apps', 'ART_AND_DESIGN', '4.7', '87510', '8.7M', '5,000,000+', 'Free', '0', 'Everyone', 'Art & Design', 'August 1, 2018', '1.2.4', '4.0.3 and up']\n\n\nNumber of rows: 10841\nNumber of columns: 13\n",
          "output_type": "stream"
        }
      ],
      "id": "4155df7a-46d9-48c0-a612-2426f27de224"
    },
    {
      "cell_type": "markdown",
      "source": "",
      "metadata": {},
      "id": "67786941-e89e-40a0-9ee0-6a65d3e68908"
    }
  ]
}